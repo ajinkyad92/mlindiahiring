{
 "cells": [
  {
   "cell_type": "code",
   "execution_count": 1,
   "metadata": {},
   "outputs": [],
   "source": [
    "import pandas as pd\n",
    "import numpy as np\n",
    "import matplotlib.pyplot as plt\n",
    "import seaborn as sns\n",
    "from sklearn.neighbors import KNeighborsClassifier\n",
    "from scipy.stats import zscore\n",
    "from sklearn import metrics\n",
    "from sklearn.model_selection import KFold\n",
    "from sklearn.model_selection import GridSearchCV\n",
    "from sklearn.linear_model import LogisticRegression\n",
    "from sklearn.tree import DecisionTreeClassifier\n",
    "from sklearn.ensemble import RandomForestClassifier\n",
    "import warnings\n",
    "warnings.filterwarnings(\"ignore\")"
   ]
  },
  {
   "cell_type": "code",
   "execution_count": 2,
   "metadata": {},
   "outputs": [
    {
     "data": {
      "text/html": [
       "<div>\n",
       "<style scoped>\n",
       "    .dataframe tbody tr th:only-of-type {\n",
       "        vertical-align: middle;\n",
       "    }\n",
       "\n",
       "    .dataframe tbody tr th {\n",
       "        vertical-align: top;\n",
       "    }\n",
       "\n",
       "    .dataframe thead th {\n",
       "        text-align: right;\n",
       "    }\n",
       "</style>\n",
       "<table border=\"1\" class=\"dataframe\">\n",
       "  <thead>\n",
       "    <tr style=\"text-align: right;\">\n",
       "      <th></th>\n",
       "      <th>loan_id</th>\n",
       "      <th>source</th>\n",
       "      <th>financial_institution</th>\n",
       "      <th>interest_rate</th>\n",
       "      <th>unpaid_principal_bal</th>\n",
       "      <th>loan_term</th>\n",
       "      <th>origination_date</th>\n",
       "      <th>first_payment_date</th>\n",
       "      <th>loan_to_value</th>\n",
       "      <th>number_of_borrowers</th>\n",
       "      <th>...</th>\n",
       "      <th>m4</th>\n",
       "      <th>m5</th>\n",
       "      <th>m6</th>\n",
       "      <th>m7</th>\n",
       "      <th>m8</th>\n",
       "      <th>m9</th>\n",
       "      <th>m10</th>\n",
       "      <th>m11</th>\n",
       "      <th>m12</th>\n",
       "      <th>m13</th>\n",
       "    </tr>\n",
       "  </thead>\n",
       "  <tbody>\n",
       "    <tr>\n",
       "      <th>0</th>\n",
       "      <td>268055008619</td>\n",
       "      <td>Z</td>\n",
       "      <td>Turner, Baldwin and Rhodes</td>\n",
       "      <td>4.250</td>\n",
       "      <td>214000</td>\n",
       "      <td>360</td>\n",
       "      <td>2012-03-01</td>\n",
       "      <td>05/2012</td>\n",
       "      <td>95</td>\n",
       "      <td>1.0</td>\n",
       "      <td>...</td>\n",
       "      <td>0</td>\n",
       "      <td>0</td>\n",
       "      <td>0</td>\n",
       "      <td>1</td>\n",
       "      <td>0</td>\n",
       "      <td>0</td>\n",
       "      <td>0</td>\n",
       "      <td>0</td>\n",
       "      <td>0</td>\n",
       "      <td>1</td>\n",
       "    </tr>\n",
       "    <tr>\n",
       "      <th>1</th>\n",
       "      <td>672831657627</td>\n",
       "      <td>Y</td>\n",
       "      <td>Swanson, Newton and Miller</td>\n",
       "      <td>4.875</td>\n",
       "      <td>144000</td>\n",
       "      <td>360</td>\n",
       "      <td>2012-01-01</td>\n",
       "      <td>03/2012</td>\n",
       "      <td>72</td>\n",
       "      <td>1.0</td>\n",
       "      <td>...</td>\n",
       "      <td>0</td>\n",
       "      <td>0</td>\n",
       "      <td>0</td>\n",
       "      <td>0</td>\n",
       "      <td>0</td>\n",
       "      <td>0</td>\n",
       "      <td>0</td>\n",
       "      <td>1</td>\n",
       "      <td>0</td>\n",
       "      <td>1</td>\n",
       "    </tr>\n",
       "    <tr>\n",
       "      <th>2</th>\n",
       "      <td>742515242108</td>\n",
       "      <td>Z</td>\n",
       "      <td>Thornton-Davis</td>\n",
       "      <td>3.250</td>\n",
       "      <td>366000</td>\n",
       "      <td>180</td>\n",
       "      <td>2012-01-01</td>\n",
       "      <td>03/2012</td>\n",
       "      <td>49</td>\n",
       "      <td>1.0</td>\n",
       "      <td>...</td>\n",
       "      <td>0</td>\n",
       "      <td>0</td>\n",
       "      <td>0</td>\n",
       "      <td>0</td>\n",
       "      <td>0</td>\n",
       "      <td>0</td>\n",
       "      <td>0</td>\n",
       "      <td>0</td>\n",
       "      <td>0</td>\n",
       "      <td>1</td>\n",
       "    </tr>\n",
       "    <tr>\n",
       "      <th>3</th>\n",
       "      <td>601385667462</td>\n",
       "      <td>X</td>\n",
       "      <td>OTHER</td>\n",
       "      <td>4.750</td>\n",
       "      <td>135000</td>\n",
       "      <td>360</td>\n",
       "      <td>2012-02-01</td>\n",
       "      <td>04/2012</td>\n",
       "      <td>46</td>\n",
       "      <td>2.0</td>\n",
       "      <td>...</td>\n",
       "      <td>0</td>\n",
       "      <td>0</td>\n",
       "      <td>0</td>\n",
       "      <td>0</td>\n",
       "      <td>0</td>\n",
       "      <td>1</td>\n",
       "      <td>1</td>\n",
       "      <td>1</td>\n",
       "      <td>1</td>\n",
       "      <td>1</td>\n",
       "    </tr>\n",
       "    <tr>\n",
       "      <th>4</th>\n",
       "      <td>273870029961</td>\n",
       "      <td>X</td>\n",
       "      <td>OTHER</td>\n",
       "      <td>4.750</td>\n",
       "      <td>124000</td>\n",
       "      <td>360</td>\n",
       "      <td>2012-02-01</td>\n",
       "      <td>04/2012</td>\n",
       "      <td>80</td>\n",
       "      <td>1.0</td>\n",
       "      <td>...</td>\n",
       "      <td>3</td>\n",
       "      <td>4</td>\n",
       "      <td>5</td>\n",
       "      <td>6</td>\n",
       "      <td>7</td>\n",
       "      <td>8</td>\n",
       "      <td>9</td>\n",
       "      <td>10</td>\n",
       "      <td>11</td>\n",
       "      <td>1</td>\n",
       "    </tr>\n",
       "    <tr>\n",
       "      <th>5</th>\n",
       "      <td>769060024464</td>\n",
       "      <td>Y</td>\n",
       "      <td>Browning-Hart</td>\n",
       "      <td>4.375</td>\n",
       "      <td>150000</td>\n",
       "      <td>360</td>\n",
       "      <td>2012-02-01</td>\n",
       "      <td>04/2012</td>\n",
       "      <td>80</td>\n",
       "      <td>1.0</td>\n",
       "      <td>...</td>\n",
       "      <td>0</td>\n",
       "      <td>0</td>\n",
       "      <td>0</td>\n",
       "      <td>0</td>\n",
       "      <td>0</td>\n",
       "      <td>0</td>\n",
       "      <td>0</td>\n",
       "      <td>0</td>\n",
       "      <td>0</td>\n",
       "      <td>1</td>\n",
       "    </tr>\n",
       "    <tr>\n",
       "      <th>6</th>\n",
       "      <td>148071614687</td>\n",
       "      <td>X</td>\n",
       "      <td>OTHER</td>\n",
       "      <td>4.000</td>\n",
       "      <td>59000</td>\n",
       "      <td>360</td>\n",
       "      <td>2012-02-01</td>\n",
       "      <td>04/2012</td>\n",
       "      <td>95</td>\n",
       "      <td>1.0</td>\n",
       "      <td>...</td>\n",
       "      <td>0</td>\n",
       "      <td>0</td>\n",
       "      <td>0</td>\n",
       "      <td>0</td>\n",
       "      <td>0</td>\n",
       "      <td>0</td>\n",
       "      <td>0</td>\n",
       "      <td>0</td>\n",
       "      <td>0</td>\n",
       "      <td>1</td>\n",
       "    </tr>\n",
       "    <tr>\n",
       "      <th>7</th>\n",
       "      <td>853383953266</td>\n",
       "      <td>Y</td>\n",
       "      <td>Browning-Hart</td>\n",
       "      <td>4.500</td>\n",
       "      <td>319000</td>\n",
       "      <td>300</td>\n",
       "      <td>2012-01-01</td>\n",
       "      <td>03/2012</td>\n",
       "      <td>62</td>\n",
       "      <td>1.0</td>\n",
       "      <td>...</td>\n",
       "      <td>0</td>\n",
       "      <td>0</td>\n",
       "      <td>0</td>\n",
       "      <td>0</td>\n",
       "      <td>0</td>\n",
       "      <td>0</td>\n",
       "      <td>0</td>\n",
       "      <td>0</td>\n",
       "      <td>0</td>\n",
       "      <td>1</td>\n",
       "    </tr>\n",
       "    <tr>\n",
       "      <th>8</th>\n",
       "      <td>423590072335</td>\n",
       "      <td>X</td>\n",
       "      <td>Browning-Hart</td>\n",
       "      <td>4.000</td>\n",
       "      <td>520000</td>\n",
       "      <td>360</td>\n",
       "      <td>2012-03-01</td>\n",
       "      <td>05/2012</td>\n",
       "      <td>76</td>\n",
       "      <td>1.0</td>\n",
       "      <td>...</td>\n",
       "      <td>0</td>\n",
       "      <td>1</td>\n",
       "      <td>0</td>\n",
       "      <td>1</td>\n",
       "      <td>0</td>\n",
       "      <td>1</td>\n",
       "      <td>2</td>\n",
       "      <td>0</td>\n",
       "      <td>1</td>\n",
       "      <td>1</td>\n",
       "    </tr>\n",
       "    <tr>\n",
       "      <th>9</th>\n",
       "      <td>308990846816</td>\n",
       "      <td>X</td>\n",
       "      <td>OTHER</td>\n",
       "      <td>4.000</td>\n",
       "      <td>214000</td>\n",
       "      <td>360</td>\n",
       "      <td>2012-01-01</td>\n",
       "      <td>03/2012</td>\n",
       "      <td>95</td>\n",
       "      <td>2.0</td>\n",
       "      <td>...</td>\n",
       "      <td>0</td>\n",
       "      <td>0</td>\n",
       "      <td>1</td>\n",
       "      <td>1</td>\n",
       "      <td>1</td>\n",
       "      <td>1</td>\n",
       "      <td>1</td>\n",
       "      <td>2</td>\n",
       "      <td>2</td>\n",
       "      <td>1</td>\n",
       "    </tr>\n",
       "  </tbody>\n",
       "</table>\n",
       "<p>10 rows × 29 columns</p>\n",
       "</div>"
      ],
      "text/plain": [
       "        loan_id source       financial_institution  interest_rate  \\\n",
       "0  268055008619      Z  Turner, Baldwin and Rhodes          4.250   \n",
       "1  672831657627      Y  Swanson, Newton and Miller          4.875   \n",
       "2  742515242108      Z              Thornton-Davis          3.250   \n",
       "3  601385667462      X                       OTHER          4.750   \n",
       "4  273870029961      X                       OTHER          4.750   \n",
       "5  769060024464      Y               Browning-Hart          4.375   \n",
       "6  148071614687      X                       OTHER          4.000   \n",
       "7  853383953266      Y               Browning-Hart          4.500   \n",
       "8  423590072335      X               Browning-Hart          4.000   \n",
       "9  308990846816      X                       OTHER          4.000   \n",
       "\n",
       "   unpaid_principal_bal  loan_term origination_date first_payment_date  \\\n",
       "0                214000        360       2012-03-01            05/2012   \n",
       "1                144000        360       2012-01-01            03/2012   \n",
       "2                366000        180       2012-01-01            03/2012   \n",
       "3                135000        360       2012-02-01            04/2012   \n",
       "4                124000        360       2012-02-01            04/2012   \n",
       "5                150000        360       2012-02-01            04/2012   \n",
       "6                 59000        360       2012-02-01            04/2012   \n",
       "7                319000        300       2012-01-01            03/2012   \n",
       "8                520000        360       2012-03-01            05/2012   \n",
       "9                214000        360       2012-01-01            03/2012   \n",
       "\n",
       "   loan_to_value  number_of_borrowers  ...  m4  m5 m6  m7  m8  m9  m10  m11  \\\n",
       "0             95                  1.0  ...   0   0  0   1   0   0    0    0   \n",
       "1             72                  1.0  ...   0   0  0   0   0   0    0    1   \n",
       "2             49                  1.0  ...   0   0  0   0   0   0    0    0   \n",
       "3             46                  2.0  ...   0   0  0   0   0   1    1    1   \n",
       "4             80                  1.0  ...   3   4  5   6   7   8    9   10   \n",
       "5             80                  1.0  ...   0   0  0   0   0   0    0    0   \n",
       "6             95                  1.0  ...   0   0  0   0   0   0    0    0   \n",
       "7             62                  1.0  ...   0   0  0   0   0   0    0    0   \n",
       "8             76                  1.0  ...   0   1  0   1   0   1    2    0   \n",
       "9             95                  2.0  ...   0   0  1   1   1   1    1    2   \n",
       "\n",
       "   m12  m13  \n",
       "0    0    1  \n",
       "1    0    1  \n",
       "2    0    1  \n",
       "3    1    1  \n",
       "4   11    1  \n",
       "5    0    1  \n",
       "6    0    1  \n",
       "7    0    1  \n",
       "8    1    1  \n",
       "9    2    1  \n",
       "\n",
       "[10 rows x 29 columns]"
      ]
     },
     "execution_count": 2,
     "metadata": {},
     "output_type": "execute_result"
    }
   ],
   "source": [
    "loan_train = pd.read_csv('train.csv')\n",
    "loan_train.head(10)"
   ]
  },
  {
   "cell_type": "code",
   "execution_count": 3,
   "metadata": {},
   "outputs": [
    {
     "data": {
      "text/plain": [
       "0    115422\n",
       "1       636\n",
       "Name: m13, dtype: int64"
      ]
     },
     "execution_count": 3,
     "metadata": {},
     "output_type": "execute_result"
    }
   ],
   "source": [
    "loan_train.m13.value_counts()"
   ]
  },
  {
   "cell_type": "code",
   "execution_count": 4,
   "metadata": {},
   "outputs": [
    {
     "data": {
      "image/png": "[encoded data removed]",
      "text/plain": [
       "<Figure size 432x288 with 1 Axes>"
      ]
     },
     "metadata": {
      "needs_background": "light"
     },
     "output_type": "display_data"
    }
   ],
   "source": [
    "sns.countplot(x='m13',data=loan_train)\n",
    "plt.show()"
   ]
  },
  {
   "cell_type": "code",
   "execution_count": 5,
   "metadata": {},
   "outputs": [],
   "source": [
    "#Highly biased dataset"
   ]
  },
  {
   "cell_type": "code",
   "execution_count": 6,
   "metadata": {},
   "outputs": [
    {
     "data": {
      "text/plain": [
       "Index(['loan_id', 'source', 'financial_institution', 'interest_rate',\n",
       "       'unpaid_principal_bal', 'loan_term', 'origination_date',\n",
       "       'first_payment_date', 'loan_to_value', 'number_of_borrowers',\n",
       "       'debt_to_income_ratio', 'borrower_credit_score', 'loan_purpose',\n",
       "       'insurance_percent', 'co-borrower_credit_score', 'insurance_type', 'm1',\n",
       "       'm2', 'm3', 'm4', 'm5', 'm6', 'm7', 'm8', 'm9', 'm10', 'm11', 'm12',\n",
       "       'm13'],\n",
       "      dtype='object')"
      ]
     },
     "execution_count": 6,
     "metadata": {},
     "output_type": "execute_result"
    }
   ],
   "source": [
    "loan_train.columns"
   ]
  },
  {
   "cell_type": "code",
   "execution_count": 7,
   "metadata": {},
   "outputs": [],
   "source": [
    "def basic_details(df):\n",
    "    b = pd.DataFrame()\n",
    "    b['Null Values'] = df.isnull().sum()\n",
    "    b['Data Type'] = df.dtypes\n",
    "    b['Unique Values'] = df.nunique()\n",
    "    return b"
   ]
  },
  {
   "cell_type": "code",
   "execution_count": 8,
   "metadata": {},
   "outputs": [
    {
     "data": {
      "text/html": [
       "<div>\n",
       "<style scoped>\n",
       "    .dataframe tbody tr th:only-of-type {\n",
       "        vertical-align: middle;\n",
       "    }\n",
       "\n",
       "    .dataframe tbody tr th {\n",
       "        vertical-align: top;\n",
       "    }\n",
       "\n",
       "    .dataframe thead th {\n",
       "        text-align: right;\n",
       "    }\n",
       "</style>\n",
       "<table border=\"1\" class=\"dataframe\">\n",
       "  <thead>\n",
       "    <tr style=\"text-align: right;\">\n",
       "      <th></th>\n",
       "      <th>Null Values</th>\n",
       "      <th>Data Type</th>\n",
       "      <th>Unique Values</th>\n",
       "    </tr>\n",
       "  </thead>\n",
       "  <tbody>\n",
       "    <tr>\n",
       "      <th>loan_id</th>\n",
       "      <td>0</td>\n",
       "      <td>int64</td>\n",
       "      <td>116058</td>\n",
       "    </tr>\n",
       "    <tr>\n",
       "      <th>source</th>\n",
       "      <td>0</td>\n",
       "      <td>object</td>\n",
       "      <td>3</td>\n",
       "    </tr>\n",
       "    <tr>\n",
       "      <th>financial_institution</th>\n",
       "      <td>0</td>\n",
       "      <td>object</td>\n",
       "      <td>19</td>\n",
       "    </tr>\n",
       "    <tr>\n",
       "      <th>interest_rate</th>\n",
       "      <td>0</td>\n",
       "      <td>float64</td>\n",
       "      <td>923</td>\n",
       "    </tr>\n",
       "    <tr>\n",
       "      <th>unpaid_principal_bal</th>\n",
       "      <td>0</td>\n",
       "      <td>int64</td>\n",
       "      <td>646</td>\n",
       "    </tr>\n",
       "    <tr>\n",
       "      <th>loan_term</th>\n",
       "      <td>0</td>\n",
       "      <td>int64</td>\n",
       "      <td>140</td>\n",
       "    </tr>\n",
       "    <tr>\n",
       "      <th>origination_date</th>\n",
       "      <td>0</td>\n",
       "      <td>object</td>\n",
       "      <td>3</td>\n",
       "    </tr>\n",
       "    <tr>\n",
       "      <th>first_payment_date</th>\n",
       "      <td>0</td>\n",
       "      <td>object</td>\n",
       "      <td>4</td>\n",
       "    </tr>\n",
       "    <tr>\n",
       "      <th>loan_to_value</th>\n",
       "      <td>0</td>\n",
       "      <td>int64</td>\n",
       "      <td>92</td>\n",
       "    </tr>\n",
       "    <tr>\n",
       "      <th>number_of_borrowers</th>\n",
       "      <td>0</td>\n",
       "      <td>float64</td>\n",
       "      <td>2</td>\n",
       "    </tr>\n",
       "    <tr>\n",
       "      <th>debt_to_income_ratio</th>\n",
       "      <td>0</td>\n",
       "      <td>float64</td>\n",
       "      <td>58</td>\n",
       "    </tr>\n",
       "    <tr>\n",
       "      <th>borrower_credit_score</th>\n",
       "      <td>0</td>\n",
       "      <td>float64</td>\n",
       "      <td>221</td>\n",
       "    </tr>\n",
       "    <tr>\n",
       "      <th>loan_purpose</th>\n",
       "      <td>0</td>\n",
       "      <td>object</td>\n",
       "      <td>3</td>\n",
       "    </tr>\n",
       "    <tr>\n",
       "      <th>insurance_percent</th>\n",
       "      <td>0</td>\n",
       "      <td>float64</td>\n",
       "      <td>14</td>\n",
       "    </tr>\n",
       "    <tr>\n",
       "      <th>co-borrower_credit_score</th>\n",
       "      <td>0</td>\n",
       "      <td>float64</td>\n",
       "      <td>216</td>\n",
       "    </tr>\n",
       "    <tr>\n",
       "      <th>insurance_type</th>\n",
       "      <td>0</td>\n",
       "      <td>float64</td>\n",
       "      <td>2</td>\n",
       "    </tr>\n",
       "    <tr>\n",
       "      <th>m1</th>\n",
       "      <td>0</td>\n",
       "      <td>int64</td>\n",
       "      <td>4</td>\n",
       "    </tr>\n",
       "    <tr>\n",
       "      <th>m2</th>\n",
       "      <td>0</td>\n",
       "      <td>int64</td>\n",
       "      <td>5</td>\n",
       "    </tr>\n",
       "    <tr>\n",
       "      <th>m3</th>\n",
       "      <td>0</td>\n",
       "      <td>int64</td>\n",
       "      <td>6</td>\n",
       "    </tr>\n",
       "    <tr>\n",
       "      <th>m4</th>\n",
       "      <td>0</td>\n",
       "      <td>int64</td>\n",
       "      <td>7</td>\n",
       "    </tr>\n",
       "    <tr>\n",
       "      <th>m5</th>\n",
       "      <td>0</td>\n",
       "      <td>int64</td>\n",
       "      <td>8</td>\n",
       "    </tr>\n",
       "    <tr>\n",
       "      <th>m6</th>\n",
       "      <td>0</td>\n",
       "      <td>int64</td>\n",
       "      <td>9</td>\n",
       "    </tr>\n",
       "    <tr>\n",
       "      <th>m7</th>\n",
       "      <td>0</td>\n",
       "      <td>int64</td>\n",
       "      <td>10</td>\n",
       "    </tr>\n",
       "    <tr>\n",
       "      <th>m8</th>\n",
       "      <td>0</td>\n",
       "      <td>int64</td>\n",
       "      <td>10</td>\n",
       "    </tr>\n",
       "    <tr>\n",
       "      <th>m9</th>\n",
       "      <td>0</td>\n",
       "      <td>int64</td>\n",
       "      <td>11</td>\n",
       "    </tr>\n",
       "    <tr>\n",
       "      <th>m10</th>\n",
       "      <td>0</td>\n",
       "      <td>int64</td>\n",
       "      <td>12</td>\n",
       "    </tr>\n",
       "    <tr>\n",
       "      <th>m11</th>\n",
       "      <td>0</td>\n",
       "      <td>int64</td>\n",
       "      <td>13</td>\n",
       "    </tr>\n",
       "    <tr>\n",
       "      <th>m12</th>\n",
       "      <td>0</td>\n",
       "      <td>int64</td>\n",
       "      <td>13</td>\n",
       "    </tr>\n",
       "    <tr>\n",
       "      <th>m13</th>\n",
       "      <td>0</td>\n",
       "      <td>int64</td>\n",
       "      <td>2</td>\n",
       "    </tr>\n",
       "  </tbody>\n",
       "</table>\n",
       "</div>"
      ],
      "text/plain": [
       "                          Null Values Data Type  Unique Values\n",
       "loan_id                             0     int64         116058\n",
       "source                              0    object              3\n",
       "financial_institution               0    object             19\n",
       "interest_rate                       0   float64            923\n",
       "unpaid_principal_bal                0     int64            646\n",
       "loan_term                           0     int64            140\n",
       "origination_date                    0    object              3\n",
       "first_payment_date                  0    object              4\n",
       "loan_to_value                       0     int64             92\n",
       "number_of_borrowers                 0   float64              2\n",
       "debt_to_income_ratio                0   float64             58\n",
       "borrower_credit_score               0   float64            221\n",
       "loan_purpose                        0    object              3\n",
       "insurance_percent                   0   float64             14\n",
       "co-borrower_credit_score            0   float64            216\n",
       "insurance_type                      0   float64              2\n",
       "m1                                  0     int64              4\n",
       "m2                                  0     int64              5\n",
       "m3                                  0     int64              6\n",
       "m4                                  0     int64              7\n",
       "m5                                  0     int64              8\n",
       "m6                                  0     int64              9\n",
       "m7                                  0     int64             10\n",
       "m8                                  0     int64             10\n",
       "m9                                  0     int64             11\n",
       "m10                                 0     int64             12\n",
       "m11                                 0     int64             13\n",
       "m12                                 0     int64             13\n",
       "m13                                 0     int64              2"
      ]
     },
     "execution_count": 8,
     "metadata": {},
     "output_type": "execute_result"
    }
   ],
   "source": [
    "basic_details(loan_train)"
   ]
  },
  {
   "cell_type": "code",
   "execution_count": 9,
   "metadata": {},
   "outputs": [
    {
     "data": {
      "text/plain": [
       "(116058, 29)"
      ]
     },
     "execution_count": 9,
     "metadata": {},
     "output_type": "execute_result"
    }
   ],
   "source": [
    "loan_train.shape"
   ]
  },
  {
   "cell_type": "code",
   "execution_count": 10,
   "metadata": {},
   "outputs": [],
   "source": [
    "loan_train_new = loan_train.copy()"
   ]
  },
  {
   "cell_type": "code",
   "execution_count": 11,
   "metadata": {},
   "outputs": [
    {
     "data": {
      "text/plain": [
       "loan_id                    -0.002982\n",
       "interest_rate               0.054298\n",
       "unpaid_principal_bal       -0.017120\n",
       "loan_term                   0.023502\n",
       "loan_to_value               0.016357\n",
       "number_of_borrowers        -0.039979\n",
       "debt_to_income_ratio        0.038033\n",
       "borrower_credit_score      -0.094215\n",
       "insurance_percent           0.005722\n",
       "co-borrower_credit_score   -0.042651\n",
       "insurance_type              0.005999\n",
       "m1                          0.092054\n",
       "m2                          0.146921\n",
       "m3                          0.157394\n",
       "m4                          0.218956\n",
       "m5                          0.259529\n",
       "m6                          0.287712\n",
       "m7                          0.309072\n",
       "m8                          0.339362\n",
       "m9                          0.369138\n",
       "m10                         0.367840\n",
       "m11                         0.410213\n",
       "m12                         0.466442\n",
       "m13                         1.000000\n",
       "Name: m13, dtype: float64"
      ]
     },
     "execution_count": 11,
     "metadata": {},
     "output_type": "execute_result"
    }
   ],
   "source": [
    "loan_train_new.corr()['m13']"
   ]
  },
  {
   "cell_type": "code",
   "execution_count": 12,
   "metadata": {},
   "outputs": [],
   "source": [
    "loan_train_new = pd.get_dummies(loan_train_new)"
   ]
  },
  {
   "cell_type": "code",
   "execution_count": 13,
   "metadata": {},
   "outputs": [
    {
     "data": {
      "text/plain": [
       "loan_id                                             -0.002982\n",
       "interest_rate                                        0.054298\n",
       "unpaid_principal_bal                                -0.017120\n",
       "loan_term                                            0.023502\n",
       "loan_to_value                                        0.016357\n",
       "number_of_borrowers                                 -0.039979\n",
       "debt_to_income_ratio                                 0.038033\n",
       "borrower_credit_score                               -0.094215\n",
       "insurance_percent                                    0.005722\n",
       "co-borrower_credit_score                            -0.042651\n",
       "insurance_type                                       0.005999\n",
       "m1                                                   0.092054\n",
       "m2                                                   0.146921\n",
       "m3                                                   0.157394\n",
       "m4                                                   0.218956\n",
       "m5                                                   0.259529\n",
       "m6                                                   0.287712\n",
       "m7                                                   0.309072\n",
       "m8                                                   0.339362\n",
       "m9                                                   0.369138\n",
       "m10                                                  0.367840\n",
       "m11                                                  0.410213\n",
       "m12                                                  0.466442\n",
       "m13                                                  1.000000\n",
       "source_X                                            -0.010544\n",
       "source_Y                                             0.010279\n",
       "source_Z                                             0.001314\n",
       "financial_institution_Anderson-Taylor                0.000640\n",
       "financial_institution_Browning-Hart                  0.000118\n",
       "financial_institution_Chapman-Mcmahon               -0.004299\n",
       "financial_institution_Cole, Brooks and Vincent       0.002967\n",
       "financial_institution_Edwards-Hoffman                0.008384\n",
       "financial_institution_Martinez, Duffy and Bird      -0.001678\n",
       "financial_institution_Miller, Mcclure and Allen      0.001215\n",
       "financial_institution_Nicholson Group               -0.000520\n",
       "financial_institution_OTHER                         -0.000791\n",
       "financial_institution_Richards-Walters              -0.003138\n",
       "financial_institution_Richardson Ltd                -0.002917\n",
       "financial_institution_Romero, Woods and Johnson     -0.003073\n",
       "financial_institution_Sanchez, Hays and Wilkerson   -0.003654\n",
       "financial_institution_Sanchez-Robinson              -0.006408\n",
       "financial_institution_Suarez Inc                    -0.004555\n",
       "financial_institution_Swanson, Newton and Miller     0.004119\n",
       "financial_institution_Taylor, Hunt and Rodriguez    -0.003267\n",
       "financial_institution_Thornton-Davis                -0.000887\n",
       "financial_institution_Turner, Baldwin and Rhodes     0.003623\n",
       "origination_date_2012-01-01                          0.008261\n",
       "origination_date_2012-02-01                         -0.001828\n",
       "origination_date_2012-03-01                         -0.009557\n",
       "first_payment_date_02/2012                           0.005446\n",
       "first_payment_date_03/2012                           0.008235\n",
       "first_payment_date_04/2012                          -0.002242\n",
       "first_payment_date_05/2012                          -0.009834\n",
       "loan_purpose_A23                                    -0.025532\n",
       "loan_purpose_B12                                     0.015563\n",
       "loan_purpose_C86                                     0.013984\n",
       "Name: m13, dtype: float64"
      ]
     },
     "execution_count": 13,
     "metadata": {},
     "output_type": "execute_result"
    }
   ],
   "source": [
    "loan_train_new.corr()['m13']"
   ]
  },
  {
   "cell_type": "code",
   "execution_count": 14,
   "metadata": {},
   "outputs": [],
   "source": [
    "loan_train_new.drop(columns='financial_institution_Anderson-Taylor',inplace=True)\n",
    "loan_train_new.drop(columns='financial_institution_Browning-Hart',inplace=True)\n",
    "loan_train_new.drop(columns='financial_institution_Chapman-Mcmahon',inplace=True)\n",
    "loan_train_new.drop(columns='financial_institution_Cole, Brooks and Vincent',inplace=True)\n",
    "loan_train_new.drop(columns='financial_institution_Edwards-Hoffman',inplace=True)\n",
    "loan_train_new.drop(columns='financial_institution_Martinez, Duffy and Bird',inplace=True)\n",
    "loan_train_new.drop(columns='financial_institution_Miller, Mcclure and Allen',inplace=True)\n",
    "loan_train_new.drop(columns='financial_institution_Nicholson Group',inplace=True)\n",
    "loan_train_new.drop(columns='financial_institution_OTHER',inplace=True)\n",
    "loan_train_new.drop(columns='financial_institution_Richards-Walters',inplace=True)\n",
    "loan_train_new.drop(columns='financial_institution_Richardson Ltd',inplace=True)\n",
    "loan_train_new.drop(columns='financial_institution_Romero, Woods and Johnson',inplace=True)\n",
    "loan_train_new.drop(columns='financial_institution_Sanchez, Hays and Wilkerson',inplace=True)\n",
    "loan_train_new.drop(columns='financial_institution_Sanchez-Robinson',inplace=True)\n",
    "loan_train_new.drop(columns='financial_institution_Suarez Inc',inplace=True)\n",
    "loan_train_new.drop(columns='financial_institution_Swanson, Newton and Miller',inplace=True)\n",
    "loan_train_new.drop(columns='financial_institution_Taylor, Hunt and Rodriguez',inplace=True)\n",
    "loan_train_new.drop(columns='financial_institution_Thornton-Davis',inplace=True)\n",
    "loan_train_new.drop(columns='financial_institution_Turner, Baldwin and Rhodes',inplace=True)\n",
    "loan_train_new.drop(columns='origination_date_2012-01-01',inplace=True)\n",
    "loan_train_new.drop(columns='origination_date_2012-02-01',inplace=True)\n",
    "loan_train_new.drop(columns='origination_date_2012-03-01',inplace=True)\n",
    "loan_train_new.drop(columns='first_payment_date_02/2012',inplace=True)\n",
    "loan_train_new.drop(columns='first_payment_date_03/2012',inplace=True)\n",
    "loan_train_new.drop(columns='first_payment_date_04/2012',inplace=True)\n",
    "loan_train_new.drop(columns='first_payment_date_05/2012',inplace=True)\n",
    "loan_train_new.drop(columns='loan_id',inplace=True)\n",
    "# loan_train_new.drop(columns='insurance_percent',inplace=True)\n",
    "# loan_train_new.drop(columns='insurance_type',inplace=True)\n",
    "# loan_train_new.drop(columns='unpaid_principal_bal',inplace=True)\n",
    "# loan_train_new.drop(columns='loan_term',inplace=True)\n",
    "# loan_train_new.drop(columns='loan_to_value',inplace=True)\n",
    "# loan_train_new.drop(columns='debt_to_income_ratio',inplace=True)"
   ]
  },
  {
   "cell_type": "code",
   "execution_count": 15,
   "metadata": {},
   "outputs": [],
   "source": [
    "# Feature Engineering"
   ]
  },
  {
   "cell_type": "code",
   "execution_count": 16,
   "metadata": {},
   "outputs": [
    {
     "data": {
      "text/html": [
       "<div>\n",
       "<style scoped>\n",
       "    .dataframe tbody tr th:only-of-type {\n",
       "        vertical-align: middle;\n",
       "    }\n",
       "\n",
       "    .dataframe tbody tr th {\n",
       "        vertical-align: top;\n",
       "    }\n",
       "\n",
       "    .dataframe thead th {\n",
       "        text-align: right;\n",
       "    }\n",
       "</style>\n",
       "<table border=\"1\" class=\"dataframe\">\n",
       "  <thead>\n",
       "    <tr style=\"text-align: right;\">\n",
       "      <th></th>\n",
       "      <th>interest_rate</th>\n",
       "      <th>unpaid_principal_bal</th>\n",
       "      <th>loan_term</th>\n",
       "      <th>loan_to_value</th>\n",
       "      <th>debt_to_income_ratio</th>\n",
       "      <th>insurance_percent</th>\n",
       "      <th>insurance_type</th>\n",
       "      <th>m1</th>\n",
       "      <th>m2</th>\n",
       "      <th>m3</th>\n",
       "      <th>...</th>\n",
       "      <th>m11</th>\n",
       "      <th>m12</th>\n",
       "      <th>m13</th>\n",
       "      <th>source_X</th>\n",
       "      <th>source_Y</th>\n",
       "      <th>source_Z</th>\n",
       "      <th>loan_purpose_A23</th>\n",
       "      <th>loan_purpose_B12</th>\n",
       "      <th>loan_purpose_C86</th>\n",
       "      <th>Average_credit_score</th>\n",
       "    </tr>\n",
       "  </thead>\n",
       "  <tbody>\n",
       "    <tr>\n",
       "      <th>0</th>\n",
       "      <td>4.250</td>\n",
       "      <td>214000</td>\n",
       "      <td>360</td>\n",
       "      <td>95</td>\n",
       "      <td>22.0</td>\n",
       "      <td>30.0</td>\n",
       "      <td>0.0</td>\n",
       "      <td>0</td>\n",
       "      <td>0</td>\n",
       "      <td>0</td>\n",
       "      <td>...</td>\n",
       "      <td>0</td>\n",
       "      <td>0</td>\n",
       "      <td>1</td>\n",
       "      <td>0</td>\n",
       "      <td>0</td>\n",
       "      <td>1</td>\n",
       "      <td>0</td>\n",
       "      <td>0</td>\n",
       "      <td>1</td>\n",
       "      <td>694.0</td>\n",
       "    </tr>\n",
       "    <tr>\n",
       "      <th>1</th>\n",
       "      <td>4.875</td>\n",
       "      <td>144000</td>\n",
       "      <td>360</td>\n",
       "      <td>72</td>\n",
       "      <td>44.0</td>\n",
       "      <td>0.0</td>\n",
       "      <td>0.0</td>\n",
       "      <td>0</td>\n",
       "      <td>0</td>\n",
       "      <td>0</td>\n",
       "      <td>...</td>\n",
       "      <td>1</td>\n",
       "      <td>0</td>\n",
       "      <td>1</td>\n",
       "      <td>0</td>\n",
       "      <td>1</td>\n",
       "      <td>0</td>\n",
       "      <td>0</td>\n",
       "      <td>1</td>\n",
       "      <td>0</td>\n",
       "      <td>697.0</td>\n",
       "    </tr>\n",
       "    <tr>\n",
       "      <th>2</th>\n",
       "      <td>3.250</td>\n",
       "      <td>366000</td>\n",
       "      <td>180</td>\n",
       "      <td>49</td>\n",
       "      <td>33.0</td>\n",
       "      <td>0.0</td>\n",
       "      <td>0.0</td>\n",
       "      <td>0</td>\n",
       "      <td>0</td>\n",
       "      <td>0</td>\n",
       "      <td>...</td>\n",
       "      <td>0</td>\n",
       "      <td>0</td>\n",
       "      <td>1</td>\n",
       "      <td>0</td>\n",
       "      <td>0</td>\n",
       "      <td>1</td>\n",
       "      <td>0</td>\n",
       "      <td>1</td>\n",
       "      <td>0</td>\n",
       "      <td>780.0</td>\n",
       "    </tr>\n",
       "    <tr>\n",
       "      <th>3</th>\n",
       "      <td>4.750</td>\n",
       "      <td>135000</td>\n",
       "      <td>360</td>\n",
       "      <td>46</td>\n",
       "      <td>44.0</td>\n",
       "      <td>0.0</td>\n",
       "      <td>0.0</td>\n",
       "      <td>0</td>\n",
       "      <td>0</td>\n",
       "      <td>0</td>\n",
       "      <td>...</td>\n",
       "      <td>1</td>\n",
       "      <td>1</td>\n",
       "      <td>1</td>\n",
       "      <td>1</td>\n",
       "      <td>0</td>\n",
       "      <td>0</td>\n",
       "      <td>0</td>\n",
       "      <td>1</td>\n",
       "      <td>0</td>\n",
       "      <td>635.5</td>\n",
       "    </tr>\n",
       "    <tr>\n",
       "      <th>4</th>\n",
       "      <td>4.750</td>\n",
       "      <td>124000</td>\n",
       "      <td>360</td>\n",
       "      <td>80</td>\n",
       "      <td>43.0</td>\n",
       "      <td>0.0</td>\n",
       "      <td>0.0</td>\n",
       "      <td>0</td>\n",
       "      <td>1</td>\n",
       "      <td>2</td>\n",
       "      <td>...</td>\n",
       "      <td>10</td>\n",
       "      <td>11</td>\n",
       "      <td>1</td>\n",
       "      <td>1</td>\n",
       "      <td>0</td>\n",
       "      <td>0</td>\n",
       "      <td>0</td>\n",
       "      <td>0</td>\n",
       "      <td>1</td>\n",
       "      <td>681.0</td>\n",
       "    </tr>\n",
       "  </tbody>\n",
       "</table>\n",
       "<p>5 rows × 27 columns</p>\n",
       "</div>"
      ],
      "text/plain": [
       "   interest_rate  unpaid_principal_bal  loan_term  loan_to_value  \\\n",
       "0          4.250                214000        360             95   \n",
       "1          4.875                144000        360             72   \n",
       "2          3.250                366000        180             49   \n",
       "3          4.750                135000        360             46   \n",
       "4          4.750                124000        360             80   \n",
       "\n",
       "   debt_to_income_ratio  insurance_percent  insurance_type  m1  m2  m3  ...  \\\n",
       "0                  22.0               30.0             0.0   0   0   0  ...   \n",
       "1                  44.0                0.0             0.0   0   0   0  ...   \n",
       "2                  33.0                0.0             0.0   0   0   0  ...   \n",
       "3                  44.0                0.0             0.0   0   0   0  ...   \n",
       "4                  43.0                0.0             0.0   0   1   2  ...   \n",
       "\n",
       "   m11  m12  m13  source_X  source_Y  source_Z  loan_purpose_A23  \\\n",
       "0    0    0    1         0         0         1                 0   \n",
       "1    1    0    1         0         1         0                 0   \n",
       "2    0    0    1         0         0         1                 0   \n",
       "3    1    1    1         1         0         0                 0   \n",
       "4   10   11    1         1         0         0                 0   \n",
       "\n",
       "   loan_purpose_B12  loan_purpose_C86  Average_credit_score  \n",
       "0                 0                 1                 694.0  \n",
       "1                 1                 0                 697.0  \n",
       "2                 1                 0                 780.0  \n",
       "3                 1                 0                 635.5  \n",
       "4                 0                 1                 681.0  \n",
       "\n",
       "[5 rows x 27 columns]"
      ]
     },
     "execution_count": 16,
     "metadata": {},
     "output_type": "execute_result"
    }
   ],
   "source": [
    "loan_train_new['Average_credit_score'] = (loan_train_new['borrower_credit_score']+loan_train_new['co-borrower_credit_score'])/ loan_train_new['number_of_borrowers']\n",
    "loan_train_new.drop(columns='number_of_borrowers',inplace=True)\n",
    "loan_train_new.drop(columns='borrower_credit_score',inplace=True)\n",
    "loan_train_new.drop(columns='co-borrower_credit_score',inplace=True)\n",
    "loan_train_new.head()"
   ]
  },
  {
   "cell_type": "code",
   "execution_count": 17,
   "metadata": {},
   "outputs": [
    {
     "data": {
      "text/html": [
       "<div>\n",
       "<style scoped>\n",
       "    .dataframe tbody tr th:only-of-type {\n",
       "        vertical-align: middle;\n",
       "    }\n",
       "\n",
       "    .dataframe tbody tr th {\n",
       "        vertical-align: top;\n",
       "    }\n",
       "\n",
       "    .dataframe thead th {\n",
       "        text-align: right;\n",
       "    }\n",
       "</style>\n",
       "<table border=\"1\" class=\"dataframe\">\n",
       "  <thead>\n",
       "    <tr style=\"text-align: right;\">\n",
       "      <th></th>\n",
       "      <th>interest_rate</th>\n",
       "      <th>unpaid_principal_bal</th>\n",
       "      <th>loan_to_value</th>\n",
       "      <th>debt_to_income_ratio</th>\n",
       "      <th>insurance_percent</th>\n",
       "      <th>insurance_type</th>\n",
       "      <th>m1</th>\n",
       "      <th>m2</th>\n",
       "      <th>m3</th>\n",
       "      <th>m4</th>\n",
       "      <th>...</th>\n",
       "      <th>m12</th>\n",
       "      <th>m13</th>\n",
       "      <th>source_X</th>\n",
       "      <th>source_Y</th>\n",
       "      <th>source_Z</th>\n",
       "      <th>loan_purpose_A23</th>\n",
       "      <th>loan_purpose_B12</th>\n",
       "      <th>loan_purpose_C86</th>\n",
       "      <th>Average_credit_score</th>\n",
       "      <th>loan_term_years</th>\n",
       "    </tr>\n",
       "  </thead>\n",
       "  <tbody>\n",
       "    <tr>\n",
       "      <th>0</th>\n",
       "      <td>4.250</td>\n",
       "      <td>214000</td>\n",
       "      <td>95</td>\n",
       "      <td>22.0</td>\n",
       "      <td>30.0</td>\n",
       "      <td>0.0</td>\n",
       "      <td>0</td>\n",
       "      <td>0</td>\n",
       "      <td>0</td>\n",
       "      <td>0</td>\n",
       "      <td>...</td>\n",
       "      <td>0</td>\n",
       "      <td>1</td>\n",
       "      <td>0</td>\n",
       "      <td>0</td>\n",
       "      <td>1</td>\n",
       "      <td>0</td>\n",
       "      <td>0</td>\n",
       "      <td>1</td>\n",
       "      <td>694.0</td>\n",
       "      <td>30.0</td>\n",
       "    </tr>\n",
       "    <tr>\n",
       "      <th>1</th>\n",
       "      <td>4.875</td>\n",
       "      <td>144000</td>\n",
       "      <td>72</td>\n",
       "      <td>44.0</td>\n",
       "      <td>0.0</td>\n",
       "      <td>0.0</td>\n",
       "      <td>0</td>\n",
       "      <td>0</td>\n",
       "      <td>0</td>\n",
       "      <td>0</td>\n",
       "      <td>...</td>\n",
       "      <td>0</td>\n",
       "      <td>1</td>\n",
       "      <td>0</td>\n",
       "      <td>1</td>\n",
       "      <td>0</td>\n",
       "      <td>0</td>\n",
       "      <td>1</td>\n",
       "      <td>0</td>\n",
       "      <td>697.0</td>\n",
       "      <td>30.0</td>\n",
       "    </tr>\n",
       "    <tr>\n",
       "      <th>2</th>\n",
       "      <td>3.250</td>\n",
       "      <td>366000</td>\n",
       "      <td>49</td>\n",
       "      <td>33.0</td>\n",
       "      <td>0.0</td>\n",
       "      <td>0.0</td>\n",
       "      <td>0</td>\n",
       "      <td>0</td>\n",
       "      <td>0</td>\n",
       "      <td>0</td>\n",
       "      <td>...</td>\n",
       "      <td>0</td>\n",
       "      <td>1</td>\n",
       "      <td>0</td>\n",
       "      <td>0</td>\n",
       "      <td>1</td>\n",
       "      <td>0</td>\n",
       "      <td>1</td>\n",
       "      <td>0</td>\n",
       "      <td>780.0</td>\n",
       "      <td>15.0</td>\n",
       "    </tr>\n",
       "    <tr>\n",
       "      <th>3</th>\n",
       "      <td>4.750</td>\n",
       "      <td>135000</td>\n",
       "      <td>46</td>\n",
       "      <td>44.0</td>\n",
       "      <td>0.0</td>\n",
       "      <td>0.0</td>\n",
       "      <td>0</td>\n",
       "      <td>0</td>\n",
       "      <td>0</td>\n",
       "      <td>0</td>\n",
       "      <td>...</td>\n",
       "      <td>1</td>\n",
       "      <td>1</td>\n",
       "      <td>1</td>\n",
       "      <td>0</td>\n",
       "      <td>0</td>\n",
       "      <td>0</td>\n",
       "      <td>1</td>\n",
       "      <td>0</td>\n",
       "      <td>635.5</td>\n",
       "      <td>30.0</td>\n",
       "    </tr>\n",
       "    <tr>\n",
       "      <th>4</th>\n",
       "      <td>4.750</td>\n",
       "      <td>124000</td>\n",
       "      <td>80</td>\n",
       "      <td>43.0</td>\n",
       "      <td>0.0</td>\n",
       "      <td>0.0</td>\n",
       "      <td>0</td>\n",
       "      <td>1</td>\n",
       "      <td>2</td>\n",
       "      <td>3</td>\n",
       "      <td>...</td>\n",
       "      <td>11</td>\n",
       "      <td>1</td>\n",
       "      <td>1</td>\n",
       "      <td>0</td>\n",
       "      <td>0</td>\n",
       "      <td>0</td>\n",
       "      <td>0</td>\n",
       "      <td>1</td>\n",
       "      <td>681.0</td>\n",
       "      <td>30.0</td>\n",
       "    </tr>\n",
       "  </tbody>\n",
       "</table>\n",
       "<p>5 rows × 27 columns</p>\n",
       "</div>"
      ],
      "text/plain": [
       "   interest_rate  unpaid_principal_bal  loan_to_value  debt_to_income_ratio  \\\n",
       "0          4.250                214000             95                  22.0   \n",
       "1          4.875                144000             72                  44.0   \n",
       "2          3.250                366000             49                  33.0   \n",
       "3          4.750                135000             46                  44.0   \n",
       "4          4.750                124000             80                  43.0   \n",
       "\n",
       "   insurance_percent  insurance_type  m1  m2  m3  m4  ...  m12  m13  source_X  \\\n",
       "0               30.0             0.0   0   0   0   0  ...    0    1         0   \n",
       "1                0.0             0.0   0   0   0   0  ...    0    1         0   \n",
       "2                0.0             0.0   0   0   0   0  ...    0    1         0   \n",
       "3                0.0             0.0   0   0   0   0  ...    1    1         1   \n",
       "4                0.0             0.0   0   1   2   3  ...   11    1         1   \n",
       "\n",
       "   source_Y  source_Z  loan_purpose_A23  loan_purpose_B12  loan_purpose_C86  \\\n",
       "0         0         1                 0                 0                 1   \n",
       "1         1         0                 0                 1                 0   \n",
       "2         0         1                 0                 1                 0   \n",
       "3         0         0                 0                 1                 0   \n",
       "4         0         0                 0                 0                 1   \n",
       "\n",
       "   Average_credit_score  loan_term_years  \n",
       "0                 694.0             30.0  \n",
       "1                 697.0             30.0  \n",
       "2                 780.0             15.0  \n",
       "3                 635.5             30.0  \n",
       "4                 681.0             30.0  \n",
       "\n",
       "[5 rows x 27 columns]"
      ]
     },
     "execution_count": 17,
     "metadata": {},
     "output_type": "execute_result"
    }
   ],
   "source": [
    "loan_train_new['loan_term_years'] = loan_train_new['loan_term']/12\n",
    "loan_train_new.drop(columns='loan_term',inplace=True)\n",
    "loan_train_new.head()"
   ]
  },
  {
   "cell_type": "code",
   "execution_count": 18,
   "metadata": {},
   "outputs": [
    {
     "data": {
      "text/html": [
       "<div>\n",
       "<style scoped>\n",
       "    .dataframe tbody tr th:only-of-type {\n",
       "        vertical-align: middle;\n",
       "    }\n",
       "\n",
       "    .dataframe tbody tr th {\n",
       "        vertical-align: top;\n",
       "    }\n",
       "\n",
       "    .dataframe thead th {\n",
       "        text-align: right;\n",
       "    }\n",
       "</style>\n",
       "<table border=\"1\" class=\"dataframe\">\n",
       "  <thead>\n",
       "    <tr style=\"text-align: right;\">\n",
       "      <th></th>\n",
       "      <th>interest_rate</th>\n",
       "      <th>unpaid_principal_bal</th>\n",
       "      <th>loan_to_value</th>\n",
       "      <th>debt_to_income_ratio</th>\n",
       "      <th>insurance_percent</th>\n",
       "      <th>insurance_type</th>\n",
       "      <th>m1</th>\n",
       "      <th>m2</th>\n",
       "      <th>m3</th>\n",
       "      <th>m4</th>\n",
       "      <th>...</th>\n",
       "      <th>m13</th>\n",
       "      <th>source_X</th>\n",
       "      <th>source_Y</th>\n",
       "      <th>source_Z</th>\n",
       "      <th>loan_purpose_A23</th>\n",
       "      <th>loan_purpose_B12</th>\n",
       "      <th>loan_purpose_C86</th>\n",
       "      <th>Average_credit_score</th>\n",
       "      <th>loan_term_years</th>\n",
       "      <th>monthly_installment</th>\n",
       "    </tr>\n",
       "  </thead>\n",
       "  <tbody>\n",
       "    <tr>\n",
       "      <th>0</th>\n",
       "      <td>4.250</td>\n",
       "      <td>214000</td>\n",
       "      <td>95</td>\n",
       "      <td>22.0</td>\n",
       "      <td>30.0</td>\n",
       "      <td>0.0</td>\n",
       "      <td>0</td>\n",
       "      <td>0</td>\n",
       "      <td>0</td>\n",
       "      <td>0</td>\n",
       "      <td>...</td>\n",
       "      <td>1</td>\n",
       "      <td>0</td>\n",
       "      <td>0</td>\n",
       "      <td>1</td>\n",
       "      <td>0</td>\n",
       "      <td>0</td>\n",
       "      <td>1</td>\n",
       "      <td>694.0</td>\n",
       "      <td>30.0</td>\n",
       "      <td>619.708333</td>\n",
       "    </tr>\n",
       "    <tr>\n",
       "      <th>1</th>\n",
       "      <td>4.875</td>\n",
       "      <td>144000</td>\n",
       "      <td>72</td>\n",
       "      <td>44.0</td>\n",
       "      <td>0.0</td>\n",
       "      <td>0.0</td>\n",
       "      <td>0</td>\n",
       "      <td>0</td>\n",
       "      <td>0</td>\n",
       "      <td>0</td>\n",
       "      <td>...</td>\n",
       "      <td>1</td>\n",
       "      <td>0</td>\n",
       "      <td>1</td>\n",
       "      <td>0</td>\n",
       "      <td>0</td>\n",
       "      <td>1</td>\n",
       "      <td>0</td>\n",
       "      <td>697.0</td>\n",
       "      <td>30.0</td>\n",
       "      <td>419.500000</td>\n",
       "    </tr>\n",
       "    <tr>\n",
       "      <th>2</th>\n",
       "      <td>3.250</td>\n",
       "      <td>366000</td>\n",
       "      <td>49</td>\n",
       "      <td>33.0</td>\n",
       "      <td>0.0</td>\n",
       "      <td>0.0</td>\n",
       "      <td>0</td>\n",
       "      <td>0</td>\n",
       "      <td>0</td>\n",
       "      <td>0</td>\n",
       "      <td>...</td>\n",
       "      <td>1</td>\n",
       "      <td>0</td>\n",
       "      <td>0</td>\n",
       "      <td>1</td>\n",
       "      <td>0</td>\n",
       "      <td>1</td>\n",
       "      <td>0</td>\n",
       "      <td>780.0</td>\n",
       "      <td>15.0</td>\n",
       "      <td>2099.416667</td>\n",
       "    </tr>\n",
       "    <tr>\n",
       "      <th>3</th>\n",
       "      <td>4.750</td>\n",
       "      <td>135000</td>\n",
       "      <td>46</td>\n",
       "      <td>44.0</td>\n",
       "      <td>0.0</td>\n",
       "      <td>0.0</td>\n",
       "      <td>0</td>\n",
       "      <td>0</td>\n",
       "      <td>0</td>\n",
       "      <td>0</td>\n",
       "      <td>...</td>\n",
       "      <td>1</td>\n",
       "      <td>1</td>\n",
       "      <td>0</td>\n",
       "      <td>0</td>\n",
       "      <td>0</td>\n",
       "      <td>1</td>\n",
       "      <td>0</td>\n",
       "      <td>635.5</td>\n",
       "      <td>30.0</td>\n",
       "      <td>392.812500</td>\n",
       "    </tr>\n",
       "    <tr>\n",
       "      <th>4</th>\n",
       "      <td>4.750</td>\n",
       "      <td>124000</td>\n",
       "      <td>80</td>\n",
       "      <td>43.0</td>\n",
       "      <td>0.0</td>\n",
       "      <td>0.0</td>\n",
       "      <td>0</td>\n",
       "      <td>1</td>\n",
       "      <td>2</td>\n",
       "      <td>3</td>\n",
       "      <td>...</td>\n",
       "      <td>1</td>\n",
       "      <td>1</td>\n",
       "      <td>0</td>\n",
       "      <td>0</td>\n",
       "      <td>0</td>\n",
       "      <td>0</td>\n",
       "      <td>1</td>\n",
       "      <td>681.0</td>\n",
       "      <td>30.0</td>\n",
       "      <td>360.805556</td>\n",
       "    </tr>\n",
       "  </tbody>\n",
       "</table>\n",
       "<p>5 rows × 28 columns</p>\n",
       "</div>"
      ],
      "text/plain": [
       "   interest_rate  unpaid_principal_bal  loan_to_value  debt_to_income_ratio  \\\n",
       "0          4.250                214000             95                  22.0   \n",
       "1          4.875                144000             72                  44.0   \n",
       "2          3.250                366000             49                  33.0   \n",
       "3          4.750                135000             46                  44.0   \n",
       "4          4.750                124000             80                  43.0   \n",
       "\n",
       "   insurance_percent  insurance_type  m1  m2  m3  m4  ...  m13  source_X  \\\n",
       "0               30.0             0.0   0   0   0   0  ...    1         0   \n",
       "1                0.0             0.0   0   0   0   0  ...    1         0   \n",
       "2                0.0             0.0   0   0   0   0  ...    1         0   \n",
       "3                0.0             0.0   0   0   0   0  ...    1         1   \n",
       "4                0.0             0.0   0   1   2   3  ...    1         1   \n",
       "\n",
       "   source_Y  source_Z  loan_purpose_A23  loan_purpose_B12  loan_purpose_C86  \\\n",
       "0         0         1                 0                 0                 1   \n",
       "1         1         0                 0                 1                 0   \n",
       "2         0         1                 0                 1                 0   \n",
       "3         0         0                 0                 1                 0   \n",
       "4         0         0                 0                 0                 1   \n",
       "\n",
       "   Average_credit_score  loan_term_years  monthly_installment  \n",
       "0                 694.0             30.0           619.708333  \n",
       "1                 697.0             30.0           419.500000  \n",
       "2                 780.0             15.0          2099.416667  \n",
       "3                 635.5             30.0           392.812500  \n",
       "4                 681.0             30.0           360.805556  \n",
       "\n",
       "[5 rows x 28 columns]"
      ]
     },
     "execution_count": 18,
     "metadata": {},
     "output_type": "execute_result"
    }
   ],
   "source": [
    "loan_train_new['monthly_installment'] = ((loan_train_new.unpaid_principal_bal)*(1+(loan_train_new.interest_rate)/100))/((loan_train_new.loan_term_years)*12)\n",
    "loan_train_new.head()"
   ]
  },
  {
   "cell_type": "code",
   "execution_count": 19,
   "metadata": {},
   "outputs": [],
   "source": [
    "cor=loan_train_new.corr()"
   ]
  },
  {
   "cell_type": "code",
   "execution_count": 20,
   "metadata": {},
   "outputs": [
    {
     "data": {
      "image/png": "[encoded data removed]",
      "text/plain": [
       "<Figure size 1440x1080 with 2 Axes>"
      ]
     },
     "metadata": {
      "needs_background": "light"
     },
     "output_type": "display_data"
    }
   ],
   "source": [
    "plt.figure(figsize=(20,15))\n",
    "sns.heatmap(cor,annot=True)\n",
    "plt.show()"
   ]
  },
  {
   "cell_type": "code",
   "execution_count": 21,
   "metadata": {},
   "outputs": [],
   "source": [
    "data = loan_train_new.copy()"
   ]
  },
  {
   "cell_type": "code",
   "execution_count": 22,
   "metadata": {},
   "outputs": [],
   "source": [
    "x = data.drop(columns='m13')\n",
    "y = data['m13']"
   ]
  },
  {
   "cell_type": "code",
   "execution_count": 23,
   "metadata": {},
   "outputs": [],
   "source": [
    "from sklearn.model_selection import train_test_split\n",
    "x_train,x_test,y_train,y_test = train_test_split(x,y,test_size = 0.3 , random_state = 45)"
   ]
  },
  {
   "cell_type": "code",
   "execution_count": 24,
   "metadata": {},
   "outputs": [],
   "source": [
    "lr = LogisticRegression()\n",
    "lr.fit(x_train, y_train)\n",
    "y_pred = lr.predict(x_test)"
   ]
  },
  {
   "cell_type": "code",
   "execution_count": 25,
   "metadata": {},
   "outputs": [
    {
     "data": {
      "text/plain": [
       "0.9943707277844793"
      ]
     },
     "execution_count": 25,
     "metadata": {},
     "output_type": "execute_result"
    }
   ],
   "source": [
    "from sklearn.metrics import accuracy_score , confusion_matrix ,recall_score ,precision_score,f1_score\n",
    "accuracy_score(y_test, y_pred)"
   ]
  },
  {
   "cell_type": "code",
   "execution_count": 26,
   "metadata": {},
   "outputs": [
    {
     "data": {
      "text/plain": [
       "array([[34622,     0],\n",
       "       [  196,     0]], dtype=int64)"
      ]
     },
     "execution_count": 26,
     "metadata": {},
     "output_type": "execute_result"
    }
   ],
   "source": [
    "confusion_matrix(y_test, y_pred)"
   ]
  },
  {
   "cell_type": "code",
   "execution_count": 27,
   "metadata": {},
   "outputs": [],
   "source": [
    "#We can clearly see, this is a bad model. This model is not able to classify clients who are not defaluters on the 13th month."
   ]
  },
  {
   "cell_type": "code",
   "execution_count": 28,
   "metadata": {},
   "outputs": [
    {
     "data": {
      "text/plain": [
       "0.0"
      ]
     },
     "execution_count": 28,
     "metadata": {},
     "output_type": "execute_result"
    }
   ],
   "source": [
    "recall_score(y_test, y_pred)"
   ]
  },
  {
   "cell_type": "code",
   "execution_count": 29,
   "metadata": {},
   "outputs": [
    {
     "data": {
      "text/plain": [
       "0.0"
      ]
     },
     "execution_count": 29,
     "metadata": {},
     "output_type": "execute_result"
    }
   ],
   "source": [
    "precision_score(y_test, y_pred)"
   ]
  },
  {
   "cell_type": "code",
   "execution_count": 30,
   "metadata": {},
   "outputs": [
    {
     "data": {
      "text/plain": [
       "0.0"
      ]
     },
     "execution_count": 30,
     "metadata": {},
     "output_type": "execute_result"
    }
   ],
   "source": [
    "f1_score(y_test,y_pred)"
   ]
  },
  {
   "cell_type": "code",
   "execution_count": 31,
   "metadata": {},
   "outputs": [],
   "source": [
    "from imblearn.over_sampling import SMOTE"
   ]
  },
  {
   "cell_type": "code",
   "execution_count": 32,
   "metadata": {},
   "outputs": [
    {
     "data": {
      "text/plain": [
       "0    80800\n",
       "1      440\n",
       "Name: m13, dtype: int64"
      ]
     },
     "execution_count": 32,
     "metadata": {},
     "output_type": "execute_result"
    }
   ],
   "source": [
    "y_train.value_counts()"
   ]
  },
  {
   "cell_type": "code",
   "execution_count": 33,
   "metadata": {},
   "outputs": [],
   "source": [
    "smt = SMOTE()\n",
    "x_train, y_train = smt.fit_sample(x_train, y_train)"
   ]
  },
  {
   "cell_type": "code",
   "execution_count": 34,
   "metadata": {},
   "outputs": [
    {
     "data": {
      "text/plain": [
       "array([80800, 80800], dtype=int64)"
      ]
     },
     "execution_count": 34,
     "metadata": {},
     "output_type": "execute_result"
    }
   ],
   "source": [
    "np.bincount(y_train)"
   ]
  },
  {
   "cell_type": "code",
   "execution_count": 35,
   "metadata": {},
   "outputs": [],
   "source": [
    "lr = LogisticRegression()\n",
    "lr.fit(x_train, y_train)\n",
    "y_pred = lr.predict(x_test)"
   ]
  },
  {
   "cell_type": "code",
   "execution_count": 36,
   "metadata": {},
   "outputs": [
    {
     "data": {
      "text/plain": [
       "0.897552989832845"
      ]
     },
     "execution_count": 36,
     "metadata": {},
     "output_type": "execute_result"
    }
   ],
   "source": [
    "accuracy_score(y_test, y_pred)"
   ]
  },
  {
   "cell_type": "code",
   "execution_count": 37,
   "metadata": {},
   "outputs": [
    {
     "data": {
      "text/plain": [
       "array([[31113,  3509],\n",
       "       [   58,   138]], dtype=int64)"
      ]
     },
     "execution_count": 37,
     "metadata": {},
     "output_type": "execute_result"
    }
   ],
   "source": [
    "confusion_matrix(y_test, y_pred)"
   ]
  },
  {
   "cell_type": "code",
   "execution_count": 38,
   "metadata": {},
   "outputs": [
    {
     "data": {
      "text/plain": [
       "0.03783931998903208"
      ]
     },
     "execution_count": 38,
     "metadata": {},
     "output_type": "execute_result"
    }
   ],
   "source": [
    "precision_score(y_test, y_pred)"
   ]
  },
  {
   "cell_type": "code",
   "execution_count": 39,
   "metadata": {},
   "outputs": [
    {
     "data": {
      "text/plain": [
       "0.7040816326530612"
      ]
     },
     "execution_count": 39,
     "metadata": {},
     "output_type": "execute_result"
    }
   ],
   "source": [
    "recall_score(y_test, y_pred)"
   ]
  },
  {
   "cell_type": "code",
   "execution_count": 40,
   "metadata": {},
   "outputs": [
    {
     "data": {
      "text/plain": [
       "0.07181889149102264"
      ]
     },
     "execution_count": 40,
     "metadata": {},
     "output_type": "execute_result"
    }
   ],
   "source": [
    "f1_score(y_test,y_pred)"
   ]
  },
  {
   "cell_type": "code",
   "execution_count": 41,
   "metadata": {},
   "outputs": [],
   "source": [
    "# Decision Tree"
   ]
  },
  {
   "cell_type": "code",
   "execution_count": 42,
   "metadata": {},
   "outputs": [
    {
     "name": "stdout",
     "output_type": "stream",
     "text": [
      "Fitting 10 folds for each of 25 candidates, totalling 250 fits\n"
     ]
    },
    {
     "name": "stderr",
     "output_type": "stream",
     "text": [
      "[Parallel(n_jobs=-1)]: Using backend LokyBackend with 8 concurrent workers.\n",
      "[Parallel(n_jobs=-1)]: Done  34 tasks      | elapsed:   18.5s\n",
      "[Parallel(n_jobs=-1)]: Done 184 tasks      | elapsed:  1.3min\n",
      "[Parallel(n_jobs=-1)]: Done 250 out of 250 | elapsed:  1.8min finished\n"
     ]
    },
    {
     "data": {
      "text/plain": [
       "RandomizedSearchCV(cv=10, error_score='raise-deprecating',\n",
       "                   estimator=DecisionTreeClassifier(class_weight=None,\n",
       "                                                    criterion='gini',\n",
       "                                                    max_depth=None,\n",
       "                                                    max_features=None,\n",
       "                                                    max_leaf_nodes=None,\n",
       "                                                    min_impurity_decrease=0.0,\n",
       "                                                    min_impurity_split=None,\n",
       "                                                    min_samples_leaf=1,\n",
       "                                                    min_samples_split=2,\n",
       "                                                    min_weight_fraction_leaf=0.0,\n",
       "                                                    presort=False,\n",
       "                                                    random_state=None,\n",
       "                                                    splitter='best'),\n",
       "                   iid='warn', n_iter=25, n_jobs=-1,\n",
       "                   param_distributions={'criterion': ['entropy', 'gini'],\n",
       "                                        'max_depth': range(5, 25, 5),\n",
       "                                        'min_samples_leaf': range(50, 150, 50),\n",
       "                                        'min_samples_split': range(50, 150, 50),\n",
       "                                        'random_state': range(0, 101)},\n",
       "                   pre_dispatch='2*n_jobs', random_state=42, refit=True,\n",
       "                   return_train_score=True, scoring='neg_mean_absolute_error',\n",
       "                   verbose=1)"
      ]
     },
     "execution_count": 42,
     "metadata": {},
     "output_type": "execute_result"
    }
   ],
   "source": [
    "from sklearn.model_selection import RandomizedSearchCV\n",
    "param_grid = {\n",
    "    'max_depth': range(5, 25, 5),\n",
    "    'min_samples_leaf': range(50, 150, 50),\n",
    "    'min_samples_split': range(50, 150, 50),\n",
    "    'criterion': [\"entropy\", \"gini\"],\n",
    "    'random_state':range(0,101)\n",
    "}\n",
    "\n",
    "n_folds = 10\n",
    "\n",
    "# Instantiate the grid search model\n",
    "dtree = DecisionTreeClassifier()\n",
    "random_cv = RandomizedSearchCV(estimator=dtree,\n",
    "                               param_distributions=param_grid,\n",
    "                               cv=n_folds, n_iter=25, \n",
    "                               scoring = 'neg_mean_absolute_error',\n",
    "                               n_jobs = -1, verbose = 1, \n",
    "                               return_train_score = True,\n",
    "                               random_state=42)\n",
    "\n",
    "# Fit the grid search to the data\n",
    "random_cv.fit(x_train,y_train)"
   ]
  },
  {
   "cell_type": "code",
   "execution_count": 43,
   "metadata": {},
   "outputs": [
    {
     "name": "stdout",
     "output_type": "stream",
     "text": [
      "best accuracy -0.011782178217821782\n"
     ]
    }
   ],
   "source": [
    "print(\"best accuracy\", random_cv.best_score_)"
   ]
  },
  {
   "cell_type": "code",
   "execution_count": 44,
   "metadata": {},
   "outputs": [
    {
     "name": "stdout",
     "output_type": "stream",
     "text": [
      "DecisionTreeClassifier(class_weight=None, criterion='entropy', max_depth=20,\n",
      "                       max_features=None, max_leaf_nodes=None,\n",
      "                       min_impurity_decrease=0.0, min_impurity_split=None,\n",
      "                       min_samples_leaf=50, min_samples_split=50,\n",
      "                       min_weight_fraction_leaf=0.0, presort=False,\n",
      "                       random_state=3, splitter='best')\n"
     ]
    }
   ],
   "source": [
    "print(random_cv.best_estimator_)"
   ]
  },
  {
   "cell_type": "code",
   "execution_count": 45,
   "metadata": {},
   "outputs": [
    {
     "data": {
      "text/plain": [
       "DecisionTreeClassifier(class_weight=None, criterion='entropy', max_depth=20,\n",
       "                       max_features=None, max_leaf_nodes=None,\n",
       "                       min_impurity_decrease=0.0, min_impurity_split=None,\n",
       "                       min_samples_leaf=50, min_samples_split=50,\n",
       "                       min_weight_fraction_leaf=0.0, presort=False,\n",
       "                       random_state=3, splitter='best')"
      ]
     },
     "execution_count": 45,
     "metadata": {},
     "output_type": "execute_result"
    }
   ],
   "source": [
    "dtc = random_cv.best_estimator_\n",
    "\n",
    "dtc.fit(x_train, y_train)"
   ]
  },
  {
   "cell_type": "code",
   "execution_count": 46,
   "metadata": {},
   "outputs": [],
   "source": [
    "pred_dtc = dtc.predict(x_test)"
   ]
  },
  {
   "cell_type": "code",
   "execution_count": 47,
   "metadata": {},
   "outputs": [
    {
     "data": {
      "text/plain": [
       "0.98854041013269"
      ]
     },
     "execution_count": 47,
     "metadata": {},
     "output_type": "execute_result"
    }
   ],
   "source": [
    "accuracy_score(y_test, pred_dtc)"
   ]
  },
  {
   "cell_type": "code",
   "execution_count": 48,
   "metadata": {},
   "outputs": [
    {
     "data": {
      "text/plain": [
       "array([[34324,   298],\n",
       "       [  101,    95]], dtype=int64)"
      ]
     },
     "execution_count": 48,
     "metadata": {},
     "output_type": "execute_result"
    }
   ],
   "source": [
    "confusion_matrix(y_test, pred_dtc)"
   ]
  },
  {
   "cell_type": "code",
   "execution_count": 49,
   "metadata": {},
   "outputs": [
    {
     "name": "stdout",
     "output_type": "stream",
     "text": [
      "Precision is:  0.24173027989821882\n",
      "Recall is:  0.4846938775510204\n",
      "F1 Score is:  0.3225806451612903\n"
     ]
    }
   ],
   "source": [
    "print('Precision is: ',precision_score(y_test, pred_dtc))\n",
    "print('Recall is: ',recall_score(y_test, pred_dtc))\n",
    "print('F1 Score is: ',f1_score(y_test,pred_dtc))"
   ]
  },
  {
   "cell_type": "code",
   "execution_count": 50,
   "metadata": {},
   "outputs": [],
   "source": [
    "# Random Forest"
   ]
  },
  {
   "cell_type": "code",
   "execution_count": 51,
   "metadata": {},
   "outputs": [
    {
     "name": "stdout",
     "output_type": "stream",
     "text": [
      "Fitting 5 folds for each of 25 candidates, totalling 125 fits\n"
     ]
    },
    {
     "name": "stderr",
     "output_type": "stream",
     "text": [
      "[Parallel(n_jobs=-1)]: Using backend LokyBackend with 8 concurrent workers.\n",
      "[Parallel(n_jobs=-1)]: Done  34 tasks      | elapsed:  1.1min\n",
      "[Parallel(n_jobs=-1)]: Done 125 out of 125 | elapsed:  3.1min finished\n"
     ]
    },
    {
     "data": {
      "text/plain": [
       "RandomizedSearchCV(cv=5, error_score='raise-deprecating',\n",
       "                   estimator=RandomForestClassifier(bootstrap=True,\n",
       "                                                    class_weight=None,\n",
       "                                                    criterion='gini',\n",
       "                                                    max_depth=None,\n",
       "                                                    max_features='auto',\n",
       "                                                    max_leaf_nodes=None,\n",
       "                                                    min_impurity_decrease=0.0,\n",
       "                                                    min_impurity_split=None,\n",
       "                                                    min_samples_leaf=1,\n",
       "                                                    min_samples_split=2,\n",
       "                                                    min_weight_fraction_leaf=0.0,\n",
       "                                                    n_estimators='warn',\n",
       "                                                    n_jobs=None,\n",
       "                                                    oob_sc...\n",
       "                                                    warm_start=False),\n",
       "                   iid='warn', n_iter=25, n_jobs=-1,\n",
       "                   param_distributions={'criterion': ['entropy', 'gini'],\n",
       "                                        'max_depth': range(5, 25, 5),\n",
       "                                        'min_samples_leaf': range(50, 150, 50),\n",
       "                                        'min_samples_split': range(50, 150, 50),\n",
       "                                        'n_estimators': range(10, 50, 10)},\n",
       "                   pre_dispatch='2*n_jobs', random_state=42, refit=True,\n",
       "                   return_train_score=True, scoring='neg_mean_absolute_error',\n",
       "                   verbose=1)"
      ]
     },
     "execution_count": 51,
     "metadata": {},
     "output_type": "execute_result"
    }
   ],
   "source": [
    "param_grid = {'n_estimators': range(10, 50, 10),\n",
    "                'max_depth': range(5, 25, 5),\n",
    "    'min_samples_leaf': range(50, 150, 50),\n",
    "    'min_samples_split': range(50, 150, 50),\n",
    "    'criterion': [\"entropy\", \"gini\"]\n",
    "             }\n",
    "\n",
    "n_folds = 5\n",
    "\n",
    "# Instantiate the grid search model\n",
    "rfc = RandomForestClassifier()\n",
    "random_cv = RandomizedSearchCV(estimator=rfc,\n",
    "                               param_distributions=param_grid,\n",
    "                               cv=n_folds, n_iter=25, \n",
    "                               scoring = 'neg_mean_absolute_error',\n",
    "                               n_jobs = -1, verbose = 1, \n",
    "                               return_train_score = True,\n",
    "                               random_state=42)\n",
    "\n",
    "# Fit the grid search to the data\n",
    "random_cv.fit(x_train,y_train)"
   ]
  },
  {
   "cell_type": "code",
   "execution_count": 52,
   "metadata": {},
   "outputs": [
    {
     "name": "stdout",
     "output_type": "stream",
     "text": [
      "best accuracy -0.01172029702970297\n"
     ]
    }
   ],
   "source": [
    "print(\"best accuracy\", random_cv.best_score_)"
   ]
  },
  {
   "cell_type": "code",
   "execution_count": 53,
   "metadata": {},
   "outputs": [
    {
     "name": "stdout",
     "output_type": "stream",
     "text": [
      "RandomForestClassifier(bootstrap=True, class_weight=None, criterion='entropy',\n",
      "                       max_depth=20, max_features='auto', max_leaf_nodes=None,\n",
      "                       min_impurity_decrease=0.0, min_impurity_split=None,\n",
      "                       min_samples_leaf=50, min_samples_split=100,\n",
      "                       min_weight_fraction_leaf=0.0, n_estimators=40,\n",
      "                       n_jobs=None, oob_score=False, random_state=None,\n",
      "                       verbose=0, warm_start=False)\n"
     ]
    }
   ],
   "source": [
    "print(random_cv.best_estimator_)"
   ]
  },
  {
   "cell_type": "code",
   "execution_count": 54,
   "metadata": {},
   "outputs": [],
   "source": [
    "rfc = random_cv.best_estimator_"
   ]
  },
  {
   "cell_type": "code",
   "execution_count": 55,
   "metadata": {},
   "outputs": [
    {
     "data": {
      "text/plain": [
       "RandomForestClassifier(bootstrap=True, class_weight=None, criterion='entropy',\n",
       "                       max_depth=20, max_features='auto', max_leaf_nodes=None,\n",
       "                       min_impurity_decrease=0.0, min_impurity_split=None,\n",
       "                       min_samples_leaf=50, min_samples_split=100,\n",
       "                       min_weight_fraction_leaf=0.0, n_estimators=40,\n",
       "                       n_jobs=None, oob_score=False, random_state=None,\n",
       "                       verbose=0, warm_start=False)"
      ]
     },
     "execution_count": 55,
     "metadata": {},
     "output_type": "execute_result"
    }
   ],
   "source": [
    "rfc.fit(x_train, y_train)"
   ]
  },
  {
   "cell_type": "code",
   "execution_count": 56,
   "metadata": {},
   "outputs": [],
   "source": [
    "pred_rfc = rfc.predict(x_test) "
   ]
  },
  {
   "cell_type": "code",
   "execution_count": 57,
   "metadata": {},
   "outputs": [
    {
     "data": {
      "text/plain": [
       "0.9943994485610891"
      ]
     },
     "execution_count": 57,
     "metadata": {},
     "output_type": "execute_result"
    }
   ],
   "source": [
    "accuracy_score(y_test, pred_rfc)"
   ]
  },
  {
   "cell_type": "code",
   "execution_count": 58,
   "metadata": {},
   "outputs": [
    {
     "data": {
      "text/plain": [
       "array([[34509,   113],\n",
       "       [   82,   114]], dtype=int64)"
      ]
     },
     "execution_count": 58,
     "metadata": {},
     "output_type": "execute_result"
    }
   ],
   "source": [
    "confusion_matrix(y_test, pred_rfc)"
   ]
  },
  {
   "cell_type": "code",
   "execution_count": 59,
   "metadata": {},
   "outputs": [
    {
     "name": "stdout",
     "output_type": "stream",
     "text": [
      "Precision is:  0.5022026431718062\n",
      "Recall is:  0.5816326530612245\n",
      "F1 Score is:  0.5390070921985816\n"
     ]
    }
   ],
   "source": [
    "print('Precision is: ',precision_score(y_test, pred_rfc))\n",
    "print('Recall is: ',recall_score(y_test, pred_rfc))\n",
    "print('F1 Score is: ',f1_score(y_test,pred_rfc))"
   ]
  },
  {
   "cell_type": "code",
   "execution_count": 60,
   "metadata": {},
   "outputs": [],
   "source": [
    "# LightGBMClassifier"
   ]
  },
  {
   "cell_type": "code",
   "execution_count": 61,
   "metadata": {},
   "outputs": [
    {
     "data": {
      "text/plain": [
       "LGBMClassifier(boosting_type='gbdt', class_weight=None, colsample_bytree=1.0,\n",
       "               importance_type='split', learning_rate=0.1, max_depth=-1,\n",
       "               min_child_samples=20, min_child_weight=0.001, min_split_gain=0.0,\n",
       "               n_estimators=100, n_jobs=-1, num_leaves=31, objective=None,\n",
       "               random_state=None, reg_alpha=0.0, reg_lambda=0.0, silent=True,\n",
       "               subsample=1.0, subsample_for_bin=200000, subsample_freq=0)"
      ]
     },
     "execution_count": 61,
     "metadata": {},
     "output_type": "execute_result"
    }
   ],
   "source": [
    "from lightgbm import LGBMClassifier\n",
    "lightgbm = LGBMClassifier(n_jobs=-1)\n",
    "\n",
    "lightgbm.fit(x_train,y_train)"
   ]
  },
  {
   "cell_type": "code",
   "execution_count": 62,
   "metadata": {},
   "outputs": [],
   "source": [
    "pred_lgbm = lightgbm.predict(x_test)"
   ]
  },
  {
   "cell_type": "code",
   "execution_count": 63,
   "metadata": {},
   "outputs": [
    {
     "data": {
      "text/plain": [
       "0.9953185134126027"
      ]
     },
     "execution_count": 63,
     "metadata": {},
     "output_type": "execute_result"
    }
   ],
   "source": [
    "accuracy_score(y_test, pred_lgbm)"
   ]
  },
  {
   "cell_type": "code",
   "execution_count": 64,
   "metadata": {},
   "outputs": [
    {
     "data": {
      "text/plain": [
       "array([[34574,    48],\n",
       "       [  115,    81]], dtype=int64)"
      ]
     },
     "execution_count": 64,
     "metadata": {},
     "output_type": "execute_result"
    }
   ],
   "source": [
    "confusion_matrix(y_test, pred_lgbm)"
   ]
  },
  {
   "cell_type": "code",
   "execution_count": 65,
   "metadata": {},
   "outputs": [
    {
     "name": "stdout",
     "output_type": "stream",
     "text": [
      "Precision is:  0.627906976744186\n",
      "Recall is:  0.413265306122449\n",
      "F1 Score is:  0.4984615384615385\n"
     ]
    }
   ],
   "source": [
    "print('Precision is: ',precision_score(y_test, pred_lgbm))\n",
    "print('Recall is: ',recall_score(y_test, pred_lgbm))\n",
    "print('F1 Score is: ',f1_score(y_test,pred_lgbm))"
   ]
  },
  {
   "cell_type": "code",
   "execution_count": 66,
   "metadata": {},
   "outputs": [],
   "source": [
    "#XGBClassifier"
   ]
  },
  {
   "cell_type": "code",
   "execution_count": 67,
   "metadata": {},
   "outputs": [],
   "source": [
    "from xgboost import XGBClassifier"
   ]
  },
  {
   "cell_type": "code",
   "execution_count": 68,
   "metadata": {},
   "outputs": [
    {
     "name": "stdout",
     "output_type": "stream",
     "text": [
      "Fitting 5 folds for each of 16 candidates, totalling 80 fits\n"
     ]
    },
    {
     "name": "stderr",
     "output_type": "stream",
     "text": [
      "[Parallel(n_jobs=-1)]: Using backend LokyBackend with 8 concurrent workers.\n",
      "[Parallel(n_jobs=-1)]: Done  34 tasks      | elapsed:  1.7min\n",
      "[Parallel(n_jobs=-1)]: Done  80 out of  80 | elapsed:  5.5min finished\n"
     ]
    },
    {
     "data": {
      "text/plain": [
       "RandomizedSearchCV(cv=5, error_score='raise-deprecating',\n",
       "                   estimator=XGBClassifier(base_score=0.5, booster='gbtree',\n",
       "                                           colsample_bylevel=1,\n",
       "                                           colsample_bynode=1,\n",
       "                                           colsample_bytree=1, gamma=0,\n",
       "                                           learning_rate=0.1, max_delta_step=0,\n",
       "                                           max_depth=3, min_child_weight=1,\n",
       "                                           missing=None, n_estimators=100,\n",
       "                                           n_jobs=1, nthread=None,\n",
       "                                           objective='binary:logistic',\n",
       "                                           random_state=0, reg_alpha=0,\n",
       "                                           reg_lambda=1, scale_pos_weight=1,\n",
       "                                           seed=None, silent=None, subsample=1,\n",
       "                                           verbosity=1),\n",
       "                   iid='warn', n_iter=25, n_jobs=-1,\n",
       "                   param_distributions={'max_depth': range(5, 25, 5),\n",
       "                                        'n_estimators': range(10, 50, 10)},\n",
       "                   pre_dispatch='2*n_jobs', random_state=42, refit=True,\n",
       "                   return_train_score=True, scoring='neg_mean_absolute_error',\n",
       "                   verbose=1)"
      ]
     },
     "execution_count": 68,
     "metadata": {},
     "output_type": "execute_result"
    }
   ],
   "source": [
    "param_grid = {'n_estimators': range(10, 50, 10),\n",
    "                'max_depth': range(5, 25, 5),\n",
    "             }\n",
    "\n",
    "n_folds = 5\n",
    "\n",
    "# Instantiate the grid search model\n",
    "xgb = XGBClassifier()\n",
    "random_cv = RandomizedSearchCV(estimator=xgb,\n",
    "                               param_distributions=param_grid,\n",
    "                               cv=n_folds, n_iter=25, \n",
    "                               scoring = 'neg_mean_absolute_error',\n",
    "                               n_jobs = -1, verbose = 1, \n",
    "                               return_train_score = True,\n",
    "                               random_state=42)\n",
    "\n",
    "# Fit the grid search to the data\n",
    "random_cv.fit(x_train,y_train)"
   ]
  },
  {
   "cell_type": "code",
   "execution_count": 69,
   "metadata": {},
   "outputs": [
    {
     "name": "stdout",
     "output_type": "stream",
     "text": [
      "best accuracy -0.0029393564356435644\n"
     ]
    }
   ],
   "source": [
    "print(\"best accuracy\", random_cv.best_score_)"
   ]
  },
  {
   "cell_type": "code",
   "execution_count": 70,
   "metadata": {},
   "outputs": [
    {
     "name": "stdout",
     "output_type": "stream",
     "text": [
      "XGBClassifier(base_score=0.5, booster='gbtree', colsample_bylevel=1,\n",
      "              colsample_bynode=1, colsample_bytree=1, gamma=0,\n",
      "              learning_rate=0.1, max_delta_step=0, max_depth=20,\n",
      "              min_child_weight=1, missing=None, n_estimators=40, n_jobs=1,\n",
      "              nthread=None, objective='binary:logistic', random_state=0,\n",
      "              reg_alpha=0, reg_lambda=1, scale_pos_weight=1, seed=None,\n",
      "              silent=None, subsample=1, verbosity=1)\n"
     ]
    }
   ],
   "source": [
    "print(random_cv.best_estimator_)"
   ]
  },
  {
   "cell_type": "code",
   "execution_count": 71,
   "metadata": {},
   "outputs": [],
   "source": [
    "xgb = random_cv.best_estimator_"
   ]
  },
  {
   "cell_type": "code",
   "execution_count": 92,
   "metadata": {},
   "outputs": [
    {
     "data": {
      "text/plain": [
       "XGBClassifier(base_score=0.5, booster='gbtree', colsample_bylevel=1,\n",
       "              colsample_bynode=1, colsample_bytree=1, gamma=0,\n",
       "              learning_rate=0.1, max_delta_step=0, max_depth=20,\n",
       "              min_child_weight=1, missing=None, n_estimators=40, n_jobs=1,\n",
       "              nthread=None, objective='binary:logistic', random_state=0,\n",
       "              reg_alpha=0, reg_lambda=1, scale_pos_weight=1, seed=None,\n",
       "              silent=None, subsample=1, verbosity=1)"
      ]
     },
     "execution_count": 92,
     "metadata": {},
     "output_type": "execute_result"
    }
   ],
   "source": [
    "xgb.fit(x_train,y_train)"
   ]
  },
  {
   "cell_type": "code",
   "execution_count": 93,
   "metadata": {},
   "outputs": [],
   "source": [
    "pred_xgb = xgb.predict(x_test)"
   ]
  },
  {
   "cell_type": "code",
   "execution_count": 94,
   "metadata": {},
   "outputs": [
    {
     "data": {
      "text/plain": [
       "0.9953759549658223"
      ]
     },
     "execution_count": 94,
     "metadata": {},
     "output_type": "execute_result"
    }
   ],
   "source": [
    "accuracy_score(y_test, pred_xgb)"
   ]
  },
  {
   "cell_type": "code",
   "execution_count": 95,
   "metadata": {},
   "outputs": [
    {
     "data": {
      "text/plain": [
       "array([[34570,    52],\n",
       "       [  109,    87]], dtype=int64)"
      ]
     },
     "execution_count": 95,
     "metadata": {},
     "output_type": "execute_result"
    }
   ],
   "source": [
    "confusion_matrix(y_test, pred_xgb)"
   ]
  },
  {
   "cell_type": "code",
   "execution_count": 96,
   "metadata": {},
   "outputs": [
    {
     "name": "stdout",
     "output_type": "stream",
     "text": [
      "Precision is:  0.6258992805755396\n",
      "Recall is:  0.44387755102040816\n",
      "F1 Score is:  0.5194029850746269\n"
     ]
    }
   ],
   "source": [
    "print('Precision is: ',precision_score(y_test, pred_xgb))\n",
    "print('Recall is: ',recall_score(y_test, pred_xgb))\n",
    "print('F1 Score is: ',f1_score(y_test,pred_xgb))"
   ]
  }
 ],
 "metadata": {
  "kernelspec": {
   "display_name": "Python 3",
   "language": "python",
   "name": "python3"
  },
  "language_info": {
   "codemirror_mode": {
    "name": "ipython",
    "version": 3
   },
   "file_extension": ".py",
   "mimetype": "text/x-python",
   "name": "python",
   "nbconvert_exporter": "python",
   "pygments_lexer": "ipython3",
   "version": "3.7.3"
  }
 },
 "nbformat": 4,
 "nbformat_minor": 2
}
